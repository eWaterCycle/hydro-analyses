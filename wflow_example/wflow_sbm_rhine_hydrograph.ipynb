{
 "cells": [
  {
   "cell_type": "code",
   "execution_count": 2,
   "metadata": {},
   "outputs": [],
   "source": [
    "#from wflow import wflow_bmi\n",
    "\n",
    "import os\n",
    "import time\n",
    "import datetime\n",
    "import pandas as pd\n",
    "import xarray as xr\n",
    "\n",
    "import hydrostats.data as hd\n",
    "import hydrostats.visual as hv\n",
    "import matplotlib.pyplot as plt\n",
    "\n",
    "import HydroErr as he\n",
    "import numpy as np"
   ]
  },
  {
   "cell_type": "code",
   "execution_count": null,
   "metadata": {},
   "outputs": [],
   "source": [
    "#Set working directory\n",
    "os.chdir(\"D:\\sbranchett\\jerom\\wflow_rhine_sbm\") "
   ]
  },
  {
   "cell_type": "code",
   "execution_count": null,
   "metadata": {},
   "outputs": [],
   "source": [
    "#Call BMI and initialize configuration file\n",
    "wflow = wflow_bmi.wflowbmi_csdms()\n",
    "wflow.initialize(\"wflow_sbm.ini\")"
   ]
  },
  {
   "cell_type": "code",
   "execution_count": null,
   "metadata": {},
   "outputs": [],
   "source": [
    "wflow.get_input_var_names()"
   ]
  },
  {
   "cell_type": "code",
   "execution_count": null,
   "metadata": {},
   "outputs": [],
   "source": [
    "wflow.get_attribute_names()"
   ]
  },
  {
   "cell_type": "code",
   "execution_count": null,
   "metadata": {
    "scrolled": true
   },
   "outputs": [],
   "source": [
    "#List of output variables\n",
    "wflow.get_output_var_names()"
   ]
  },
  {
   "cell_type": "code",
   "execution_count": null,
   "metadata": {},
   "outputs": [],
   "source": [
    "#Set output variable name(s)\n",
    "variable = \"SurfaceRunoff\" "
   ]
  },
  {
   "cell_type": "code",
   "execution_count": null,
   "metadata": {},
   "outputs": [],
   "source": [
    "#Get lon/lat for xarray\n",
    "lon = wflow.get_grid_x(variable) \n",
    "lat = wflow.get_grid_y(variable)"
   ]
  },
  {
   "cell_type": "code",
   "execution_count": null,
   "metadata": {},
   "outputs": [],
   "source": [
    "#Create 1D Lon/Lat lists for xarray\n",
    "lon2 = lon[0,:]\n",
    "lat2 = lat[:,0]"
   ]
  },
  {
   "cell_type": "code",
   "execution_count": null,
   "metadata": {},
   "outputs": [],
   "source": [
    "#Get time step, start, end and calculate the amount of model time steps\n",
    "tstep = wflow.get_time_step()\n",
    "tstart = wflow.get_start_time()\n",
    "tend = wflow.get_end_time()\n",
    "\n",
    "tstep_nmbr = ((tend - tstart)/tstep) + 1\n",
    "\n",
    "print tstep_nmbr\n",
    "print time.ctime(int(tstart)) + \" start\"\n",
    "print time.ctime(int(tend)) + \" end\""
   ]
  },
  {
   "cell_type": "code",
   "execution_count": null,
   "metadata": {},
   "outputs": [],
   "source": [
    "#Set correct date format that would work for all models\n",
    "date_start = datetime.datetime.strptime(time.ctime(int(tstart)), \"%a %b %d %H:%M:%S %Y\").strftime('%Y-%m-%d')"
   ]
  },
  {
   "cell_type": "code",
   "execution_count": null,
   "metadata": {
    "scrolled": true
   },
   "outputs": [],
   "source": [
    "#Create xarray dataset with coordinates and time series\n",
    "ds = xr.Dataset(coords={'lon': lon2,\n",
    "                        'lat': lat2,\n",
    "                        'time': pd.date_range(date_start,  periods = tstep_nmbr)})\n",
    "ds"
   ]
  },
  {
   "cell_type": "code",
   "execution_count": null,
   "metadata": {},
   "outputs": [],
   "source": [
    "#Create empty array for faster filling\n",
    "data_variable = np.zeros(shape=(tstep_nmbr, len(lat2), len(lon2)))"
   ]
  },
  {
   "cell_type": "code",
   "execution_count": null,
   "metadata": {},
   "outputs": [],
   "source": [
    "#Model run with retrieval of variables for each time step\n",
    "for idx, i in enumerate(range(tstep_nmbr)):\n",
    "    \n",
    "    wflow.update_until(tstart + i *tstep)\n",
    "    value = wflow.get_value(variable)\n",
    "    data_variable[idx,:,:] = value"
   ]
  },
  {
   "cell_type": "code",
   "execution_count": null,
   "metadata": {
    "scrolled": false
   },
   "outputs": [],
   "source": [
    "#Append variable data to xarray dataset\n",
    "ds[variable] = (('time', 'lat', 'lon'), data_variable)\n",
    "ds"
   ]
  },
  {
   "cell_type": "code",
   "execution_count": null,
   "metadata": {},
   "outputs": [],
   "source": [
    "#Plot variable map of time step 50\n",
    "array = ds[variable].isel(time= 50)\n",
    "array.plot()"
   ]
  },
  {
   "cell_type": "code",
   "execution_count": null,
   "metadata": {},
   "outputs": [],
   "source": [
    "#Get timeseries data of a variabel from xarray Dataset for a given cell\n",
    "timeseries = ds[variable].sel(lat= 51.8325, lon=6.0955, method= 'nearest')"
   ]
  },
  {
   "cell_type": "code",
   "execution_count": null,
   "metadata": {
    "scrolled": true
   },
   "outputs": [],
   "source": [
    "#Timeseries plot of selected variable\n",
    "timeseries.plot()"
   ]
  },
  {
   "cell_type": "code",
   "execution_count": null,
   "metadata": {},
   "outputs": [],
   "source": [
    "#Create dataframe with time, simulated and observed values\n",
    "#Note: order of columns needs to be time, sim, obs for the hydrostats package\n",
    "timeseries = ds[variable].sel(lat= 51.8325, lon=6.0955, method= 'nearest')\n",
    "\n",
    "sim = timeseries.to_dataframe()\n",
    "\n",
    "obs = pd.read_csv(r\"C:\\Users\\jerom\\Desktop\\wflow\\examples\\grdc.csv\", sep=';')\n",
    "obs['date'] = pd.to_datetime(obs['date'])\n",
    "obs['date'] = obs['date'].dt.strftime('%Y-%m-%d')\n",
    "\n",
    "pd.to_datetime(obs['date'])\n",
    "obs.set_index('date', inplace=True)\n",
    "\n",
    "val = sim.merge(obs, left_index=True, right_index=True, how='inner')\n",
    "val.columns = ['sim', 'lat', 'lon', 'obs']\n",
    "val = val.drop(columns=['lat', 'lon'])"
   ]
  },
  {
   "cell_type": "code",
   "execution_count": null,
   "metadata": {},
   "outputs": [],
   "source": [
    "#Plot hydrograph for simulated and observed values and calculate statistics\n",
    "\n",
    "hv.plot(val,\n",
    "      title='Hydrograph of Lobith',\n",
    "      linestyles=['r-', 'k-'],\n",
    "      legend=('Simulated', 'Observed'),\n",
    "      labels=['Datetime', 'Streamflow (cms)'],\n",
    "      metrics=['ME', 'NSE', 'SA'],\n",
    "      grid=True)\n",
    "plt.show()"
   ]
  },
  {
   "cell_type": "code",
   "execution_count": null,
   "metadata": {},
   "outputs": [],
   "source": [
    "#Seperate statistics using hydrostats\n",
    "sim = val['sim']\n",
    "obs = val['obs']\n",
    "  \n",
    "nse = he.nse(sim, obs)\n",
    "pearson_r = he.pearson_r(sim, obs)\n",
    "\n",
    "print nse\n",
    "print pearson_r"
   ]
  },
  {
   "cell_type": "code",
   "execution_count": null,
   "metadata": {},
   "outputs": [],
   "source": []
  }
 ],
 "metadata": {
  "kernelspec": {
   "display_name": "Python 2",
   "language": "python",
   "name": "python2"
  },
  "language_info": {
   "codemirror_mode": {
    "name": "ipython",
    "version": 2
   },
   "file_extension": ".py",
   "mimetype": "text/x-python",
   "name": "python",
   "nbconvert_exporter": "python",
   "pygments_lexer": "ipython2",
   "version": "2.7.15"
  }
 },
 "nbformat": 4,
 "nbformat_minor": 2
}
